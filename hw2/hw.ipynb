{
 "cells": [
  {
   "cell_type": "code",
   "execution_count": 1,
   "metadata": {},
   "outputs": [],
   "source": [
    "import pickle\n",
    "from datetime import timedelta, datetime\n",
    "import pandas as pd\n",
    "import numpy as np\n",
    "import matplotlib.pyplot as plt\n",
    "from scipy import sparse\n",
    "from sklearn.linear_model import LogisticRegression\n",
    "import scipy.stats as sts"
   ]
  },
  {
   "cell_type": "markdown",
   "metadata": {},
   "source": [
    "# Пункт 1"
   ]
  },
  {
   "cell_type": "code",
   "execution_count": 2,
   "metadata": {},
   "outputs": [],
   "source": [
    "with open('results.pkl', 'rb') as f:\n",
    "    results = pickle.load(f)\n",
    "    \n",
    "with open('players.pkl', 'rb') as f:\n",
    "    players = pickle.load(f)\n",
    "\n",
    "with open('tournaments.pkl', 'rb') as f:\n",
    "    tournaments = pickle.load(f)"
   ]
  },
  {
   "cell_type": "code",
   "execution_count": 4,
   "metadata": {},
   "outputs": [
    {
     "data": {
      "text/plain": [
       "{'id': 13577,\n",
       " 'name': 'Владислав',\n",
       " 'patronymic': 'Леонидович',\n",
       " 'surname': 'Карнацевич'}"
      ]
     },
     "execution_count": 4,
     "metadata": {},
     "output_type": "execute_result"
    }
   ],
   "source": [
    "players[13577]"
   ]
  },
  {
   "cell_type": "code",
   "execution_count": 33,
   "metadata": {},
   "outputs": [
    {
     "name": "stdout",
     "output_type": "stream",
     "text": [
      "train: 616\n",
      "test: 160\n"
     ]
    }
   ],
   "source": [
    "def find_X(mask):\n",
    "    if mask is None:\n",
    "        return True\n",
    "    return 'X' in mask or '?' in mask\n",
    "\n",
    "tournaments_train = []\n",
    "tournaments_test = []\n",
    "for key in tournaments.keys():\n",
    "    if not results[key]:\n",
    "        continue\n",
    "    else:\n",
    "        d = {}\n",
    "        d['teams'] = []\n",
    "        for team in results[key]:\n",
    "            #print(team)\n",
    "            #if team.get('mask', 1e10) != 1e10 and team['mask'] is not None:\n",
    "            if not find_X(team.get('mask')):\n",
    "                d['teams'].append({'team_id': team['team']['id'],\n",
    "                                   'mask': team['mask'],\n",
    "                                   'mask_sum' : len([i for i in team['mask'] if i == '1']),\n",
    "                                   'teamMembers': [member['player']['id'] for member in team['teamMembers']]}\n",
    "                                 )\n",
    "        if d['teams'] != []:\n",
    "            if tournaments[key]['dateStart'][:4] == '2019':\n",
    "                d['id'] = key\n",
    "                tournaments_train.append(d)\n",
    "            if tournaments[key]['dateStart'][:4] == '2020':\n",
    "                d['id'] = key\n",
    "                tournaments_test.append(d)\n",
    "print('train:', len(tournaments_train))\n",
    "print('test:', len(tournaments_test))"
   ]
  },
  {
   "cell_type": "code",
   "execution_count": 34,
   "metadata": {},
   "outputs": [
    {
     "name": "stdout",
     "output_type": "stream",
     "text": [
      "57288\n",
      "11343\n",
      "30509\n"
     ]
    }
   ],
   "source": [
    "# список всех участников на тренировочной выборке и список всех команд\n",
    "members_list = []\n",
    "teams_list = []\n",
    "questions = 0\n",
    "for tournament in tournaments_train:\n",
    "    questions += len(tournament['teams'][0]['mask'])\n",
    "    for team in tournament['teams']:\n",
    "        teams_list.append(team['team_id'])\n",
    "        members_list.extend(team['teamMembers'])\n",
    "members_list = list(set(members_list))\n",
    "teams_list = list(set(teams_list))\n",
    "print(len(members_list))\n",
    "print(len(teams_list))\n",
    "print(questions)"
   ]
  },
  {
   "cell_type": "code",
   "execution_count": 38,
   "metadata": {},
   "outputs": [
    {
     "name": "stdout",
     "output_type": "stream",
     "text": [
      "20954324\n"
     ]
    }
   ],
   "source": [
    "# посчитаем общее число строк которое понадобится в датасете\n",
    "r = 0\n",
    "for tournament in tournaments_train:\n",
    "    #r += len(tournament['teams'][0]['mask']) * sum(len(t['teamMembers']) for t in tournament['teams'])\n",
    "    len_q = len([i for i in tournament['teams'][0]['mask'] if i != 'X' and i != '?'])\n",
    "    m_list = []\n",
    "    for team in tournament['teams']:\n",
    "        m_list.extend(team['teamMembers'])\n",
    "    len_m = len(set(m_list))\n",
    "    r += len_q * len_m\n",
    "print(r)"
   ]
  },
  {
   "cell_type": "code",
   "execution_count": 39,
   "metadata": {},
   "outputs": [],
   "source": [
    "member_2_index = {k : v for v, k in enumerate(members_list)}"
   ]
  },
  {
   "cell_type": "code",
   "execution_count": 40,
   "metadata": {},
   "outputs": [
    {
     "data": {
      "text/plain": [
       "57288"
      ]
     },
     "execution_count": 40,
     "metadata": {},
     "output_type": "execute_result"
    }
   ],
   "source": [
    "len(member_2_index)"
   ]
  },
  {
   "cell_type": "code",
   "execution_count": 41,
   "metadata": {},
   "outputs": [],
   "source": [
    "def make_x(tournaments_data, r, member_2_index, questions):\n",
    "    X_data = sparse.lil_matrix((r, questions + len(member_2_index)), \n",
    "                          dtype=int)\n",
    "    target = []\n",
    "    all_questions = 0\n",
    "    i = 0\n",
    "    members_size = len(member_2_index)\n",
    "    for tournament in tournaments_data:\n",
    "        len_mask = len(tournament['teams'][0]['mask'])\n",
    "        for team in tournament['teams']:\n",
    "            if len_mask != len(team['mask']):\n",
    "                continue \n",
    "            for member in team['teamMembers']:\n",
    "                for j in range(len(team['mask'])):\n",
    "                    try:\n",
    "                        X_data[i, members_size + all_questions + j] = int(team['mask'][j])\n",
    "                    except ValueError:\n",
    "                        continue\n",
    "                    X_data[i, member_2_index[member]] = 1\n",
    "                    #X_data[i, questions + members_list.index(member)] = 1\n",
    "                    i += 1\n",
    "                    target.append(int(team['mask'][j]))\n",
    "        all_questions += len_mask\n",
    "    return (X_data[:i, :], np.array(target))\n",
    "        "
   ]
  },
  {
   "cell_type": "code",
   "execution_count": 42,
   "metadata": {},
   "outputs": [],
   "source": [
    "X_train, y_train = make_x(tournaments_train, r, member_2_index, questions)"
   ]
  },
  {
   "cell_type": "code",
   "execution_count": 43,
   "metadata": {},
   "outputs": [
    {
     "data": {
      "text/plain": [
       "(14771633, 87797)"
      ]
     },
     "execution_count": 43,
     "metadata": {},
     "output_type": "execute_result"
    }
   ],
   "source": [
    "X_train.shape"
   ]
  },
  {
   "cell_type": "code",
   "execution_count": 44,
   "metadata": {},
   "outputs": [
    {
     "data": {
      "text/plain": [
       "(14771633,)"
      ]
     },
     "execution_count": 44,
     "metadata": {},
     "output_type": "execute_result"
    }
   ],
   "source": [
    " y_train.shape"
   ]
  },
  {
   "cell_type": "markdown",
   "metadata": {},
   "source": [
    "# Пункт № 2\n",
    "Make BASELINE"
   ]
  },
  {
   "cell_type": "code",
   "execution_count": 45,
   "metadata": {},
   "outputs": [
    {
     "data": {
      "text/plain": [
       "LogisticRegression(n_jobs=-1)"
      ]
     },
     "execution_count": 45,
     "metadata": {},
     "output_type": "execute_result"
    }
   ],
   "source": [
    "clf = LogisticRegression(n_jobs=-1)\n",
    "clf.fit(X_train, y_train)"
   ]
  },
  {
   "cell_type": "code",
   "execution_count": 46,
   "metadata": {},
   "outputs": [
    {
     "data": {
      "text/plain": [
       "(87797,)"
      ]
     },
     "execution_count": 46,
     "metadata": {},
     "output_type": "execute_result"
    }
   ],
   "source": [
    "clf.coef_[0][:].shape"
   ]
  },
  {
   "cell_type": "code",
   "execution_count": 47,
   "metadata": {},
   "outputs": [],
   "source": [
    "rating_2019 = list(zip(members_list, clf.coef_[0][:len(members_list)]))"
   ]
  },
  {
   "cell_type": "code",
   "execution_count": 48,
   "metadata": {},
   "outputs": [],
   "source": [
    "rating_2019.sort(key=lambda x: -x[1])"
   ]
  },
  {
   "cell_type": "code",
   "execution_count": 49,
   "metadata": {},
   "outputs": [
    {
     "data": {
      "text/plain": [
       "[(20640, 4.563756054996338),\n",
       " (147450, 4.440872500040505),\n",
       " (27403, 4.351978740594711),\n",
       " (223, 3.728471178284705)]"
      ]
     },
     "execution_count": 49,
     "metadata": {},
     "output_type": "execute_result"
    }
   ],
   "source": [
    "rating_2019[:4]"
   ]
  },
  {
   "cell_type": "code",
   "execution_count": 50,
   "metadata": {},
   "outputs": [],
   "source": [
    "rating_2019 = [(players[line[0]], line[1]) for line in rating_2019]"
   ]
  },
  {
   "cell_type": "markdown",
   "metadata": {},
   "source": [
    "##### Выведим топ 30"
   ]
  },
  {
   "cell_type": "code",
   "execution_count": 55,
   "metadata": {},
   "outputs": [
    {
     "name": "stdout",
     "output_type": "stream",
     "text": [
      "20640 Мельникова Ольга 4.563756054996338\n",
      "147450 Салихов Максим 4.440872500040505\n",
      "27403 Руссо Максим 4.351978740594711\n",
      "223 Аввакумов Илья 3.728471178284705\n",
      "4270 Брутер Александра 3.6028584006607263\n",
      "12785 Ишин Вадим 3.577376668403601\n",
      "15723 Корнюков Александр 3.4768972244725753\n",
      "39426 Андронов Антон 3.365435254198585\n",
      "16325 Крапивин Алексей 3.3628704534007876\n",
      "195091 Остросаблина Ольга 3.3108937792427624\n",
      "213002 Досалина Ханна 3.291812489687915\n",
      "49574 Хачатрян Самвел 3.25693202099296\n",
      "193994 Крашенинникова Алина 3.17489855423336\n",
      "35788 Швед Александр 3.157740622816865\n",
      "217803 Тужушев Дамир 3.1211533246621204\n",
      "217804 Аубакиров Алибек 3.1211533246621204\n",
      "148558 Котов Виталий 3.115333477591819\n",
      "46410 Гоголь Данил 3.115333477591819\n",
      "46411 Рожковой Иван 3.115333477591819\n",
      "55040 Гусаров Владимир 3.109787234769964\n",
      "26383 Пхакадзе Парнаваз 3.0911914972172942\n",
      "4637 Буторин Антон 3.0861621653425995\n",
      "22935 Новиков Илья 3.052057434639512\n",
      "19703 Мамедов Джавид 3.0476157647866313\n",
      "20953 Мирзалиев Руслан 3.0476157647866313\n",
      "105337 Тишкина Анна 3.0423270941890888\n",
      "24414 Ляучук Александра 3.004202942019598\n",
      "124898 Азнаурян Сона 3.0012938818232366\n",
      "209934 Гадиев Рустем 2.990514565564798\n",
      "18122 Ляучук Евгений 2.989839066611576\n"
     ]
    }
   ],
   "source": [
    "for line in rating_2019[:30]:\n",
    "    print(line[0]['id'], line[0]['surname'], line[0]['name'], line[1])"
   ]
  },
  {
   "cell_type": "code",
   "execution_count": 56,
   "metadata": {},
   "outputs": [
    {
     "name": "stdout",
     "output_type": "stream",
     "text": [
      "({'id': 22799, 'name': 'Сергей', 'patronymic': 'Игоревич', 'surname': 'Николенко'}, 1.0825638309487577)\n"
     ]
    }
   ],
   "source": [
    "for line in rating_2019:\n",
    "    if line[0]['name'] == \"Сергей\" and line[0]['surname'] == 'Николенко':\n",
    "        print(line)"
   ]
  },
  {
   "cell_type": "markdown",
   "metadata": {},
   "source": [
    "# Пункт № 3"
   ]
  },
  {
   "cell_type": "code",
   "execution_count": 57,
   "metadata": {},
   "outputs": [],
   "source": [
    "t = []\n",
    "for tournament in tournaments_test:\n",
    "    tt = []\n",
    "    if len(tournament['teams']) > 1:\n",
    "        for team in tournament['teams']:\n",
    "            temp_m = [m for m in team['teamMembers'] if m in members_list]\n",
    "            if len(temp_m) > 0:\n",
    "                temp_t = team.copy()\n",
    "                temp_t['teamMembers'] = temp_m\n",
    "                tt.append(temp_t)\n",
    "        t.append({\"teams\": tt})"
   ]
  },
  {
   "cell_type": "code",
   "execution_count": 58,
   "metadata": {},
   "outputs": [],
   "source": [
    "rating_pred_2020 = []\n",
    "#for tournament in tournaments_test:\n",
    "for tournament in t:\n",
    "    tournament_pred = []\n",
    "    for team in tournament['teams']:\n",
    "        #print(len(tournament['teams']))\n",
    "        team_size = len(team['teamMembers'])\n",
    "        \n",
    "        if team_size > 0:\n",
    "            X_team = sparse.lil_matrix((team_size, questions + len(member_2_index)),\n",
    "                                           dtype=int)\n",
    "            for i in range(team_size):\n",
    "                try:\n",
    "                    X_team[i, member_2_index[team['teamMembers'][i]]] = 1\n",
    "                except KeyError:\n",
    "                    continue\n",
    "            pred = clf.predict_proba(X_team)[:, 0]\n",
    "            pred = 1 - pred.prod()\n",
    "            tournament_pred.append(pred)\n",
    "        else:\n",
    "            tournament_pred.append(0)\n",
    "    rating_pred_2020.append(tournament_pred)"
   ]
  },
  {
   "cell_type": "code",
   "execution_count": 59,
   "metadata": {},
   "outputs": [],
   "source": [
    "true_rating_2020 = []\n",
    "#for tournament in tournaments_test:\n",
    "for tournament in t:\n",
    "    tour = []\n",
    "    for team in tournament['teams']:\n",
    "        tour.append(team['mask_sum'])\n",
    "    true_rating_2020.append(tour)"
   ]
  },
  {
   "cell_type": "code",
   "execution_count": null,
   "metadata": {},
   "outputs": [],
   "source": []
  },
  {
   "cell_type": "markdown",
   "metadata": {},
   "source": [
    "### Посчитаем корреляцию"
   ]
  },
  {
   "cell_type": "code",
   "execution_count": 64,
   "metadata": {},
   "outputs": [
    {
     "name": "stdout",
     "output_type": "stream",
     "text": [
      "spearman_corr: 0.45633124862875896\n",
      "kendall_corr: 0.33280092371858494\n"
     ]
    }
   ],
   "source": [
    "spearman_corr = []\n",
    "kendall_corr = []\n",
    "for i in range(len(rating_pred_2020)):\n",
    "    spearman = sts.spearmanr(true_rating_2020[i], rating_pred_2020[i]).correlation\n",
    "    kendall = sts.kendalltau(true_rating_2020[i], rating_pred_2020[i]).correlation\n",
    "    if kendall is np.nan:\n",
    "        kendall_corr.append(0)\n",
    "    else:\n",
    "        kendall_corr.append(kendall)\n",
    "    if spearman is np.nan:\n",
    "        spearman_corr.append(0)\n",
    "    else:\n",
    "        spearman_corr.append(spearman)\n",
    "print('spearman_corr:' , np.mean(spearman_corr))\n",
    "print('kendall_corr:' , np.mean(kendall_corr))"
   ]
  },
  {
   "cell_type": "code",
   "execution_count": null,
   "metadata": {},
   "outputs": [],
   "source": []
  }
 ],
 "metadata": {
  "kernelspec": {
   "display_name": "Python 3",
   "language": "python",
   "name": "python3"
  },
  "language_info": {
   "codemirror_mode": {
    "name": "ipython",
    "version": 3
   },
   "file_extension": ".py",
   "mimetype": "text/x-python",
   "name": "python",
   "nbconvert_exporter": "python",
   "pygments_lexer": "ipython3",
   "version": "3.7.4"
  }
 },
 "nbformat": 4,
 "nbformat_minor": 4
}
