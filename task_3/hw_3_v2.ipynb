{
 "cells": [
  {
   "cell_type": "code",
   "execution_count": 260,
   "metadata": {},
   "outputs": [],
   "source": [
    "import pandas as pd\n",
    "import numpy as np\n",
    "from collections import Counter\n",
    "import re\n",
    "import itertools\n",
    "import random"
   ]
  },
  {
   "cell_type": "markdown",
   "metadata": {},
   "source": [
    "# Пункт 1"
   ]
  },
  {
   "cell_type": "code",
   "execution_count": 261,
   "metadata": {},
   "outputs": [],
   "source": [
    "# Наша метрика\n",
    "def simple_metric(text, decode_text):\n",
    "    len_text = min(len(text), len(decode_text))\n",
    "    count = 0\n",
    "    for x, y in zip(text, decode_text):\n",
    "        if x == y:\n",
    "            count += 1\n",
    "    return count / len_text"
   ]
  },
  {
   "cell_type": "code",
   "execution_count": 312,
   "metadata": {},
   "outputs": [],
   "source": [
    "# Функция для получения частотного словаря\n",
    "def get_frequency(path, absolute_values=False):\n",
    "    res = ''\n",
    "    try:\n",
    "        with open(path, 'r',  encoding='utf-8') as f:\n",
    "            for line in f:\n",
    "                res += re.sub(r'[^\\w\\s]', '', line.strip().lower()).replace('\\t', ' ')\n",
    "    except OSError or FileNotFoundError:\n",
    "        res = path\n",
    "    frequency = Counter(res)\n",
    "    len_corpus = len(res)\n",
    "    dict_frequency = {}\n",
    "    for token in frequency.keys():\n",
    "        if absolute_values:\n",
    "            dict_frequency[token] = frequency[token]\n",
    "        else:\n",
    "            dict_frequency[token] = frequency[token] / len_corpus\n",
    "    return dict_frequency"
   ]
  },
  {
   "cell_type": "code",
   "execution_count": 263,
   "metadata": {},
   "outputs": [],
   "source": [
    "# Получим частотный словарь на основе тренировочных данных \"Война и Мир\"\n",
    "train_frequency = get_frequency('WarAndPeace.txt')"
   ]
  },
  {
   "cell_type": "code",
   "execution_count": 264,
   "metadata": {},
   "outputs": [],
   "source": [
    "# Простенький энкодер\n",
    "def simply_encoder(text='', parsed=False):\n",
    "    if not parsed:\n",
    "        text = re.sub(r'[^\\w\\s]', '', text.strip().lower()).replace('\\t', ' ')\n",
    "    count = Counter(text)\n",
    "    token_list = list(count.keys())\n",
    "    token_list_2 = token_list[:]\n",
    "    random.shuffle(token_list_2)\n",
    "    encode_dict = {}\n",
    "    for ind in range(len(token_list)):\n",
    "        encode_dict[token_list[ind]] = token_list_2[ind]\n",
    "    res_text = ''\n",
    "    for token in text:\n",
    "        res_text += encode_dict[token]\n",
    "    return res_text\n",
    "\n",
    "\n",
    "def simply_decoder(test_text, train_frequency):\n",
    "    test_frequency = get_frequency(test_text)\n",
    "    \n",
    "    res_train = []\n",
    "    for key, val in train_frequency.items():\n",
    "        res_train.append([key, val])\n",
    "    res_train.sort(key=lambda x: x[1], reverse=True)\n",
    "    \n",
    "    res_test = []\n",
    "    for key, val in test_frequency.items():\n",
    "        res_test.append([key, val])\n",
    "    res_test.sort(key=lambda x: x[1], reverse=True)\n",
    "    \n",
    "    decode_dict = {}\n",
    "    for x, y in zip(res_test, res_train):\n",
    "        decode_dict[x[0]] = y[0]\n",
    "\n",
    "    res_text= ''\n",
    "    for token in test_text:\n",
    "        res_text += decode_dict[token]\n",
    "    return res_text"
   ]
  },
  {
   "cell_type": "code",
   "execution_count": 265,
   "metadata": {},
   "outputs": [],
   "source": [
    "# Прочтем тестовый текст\n",
    "test_text = ''\n",
    "with open('test.txt', 'r',  encoding='utf-8') as f:\n",
    "        for line in f:\n",
    "            test_text += re.sub(r'[^\\w\\s]', '', line.strip().lower()).replace('\\t', ' ')"
   ]
  },
  {
   "cell_type": "code",
   "execution_count": 266,
   "metadata": {},
   "outputs": [
    {
     "data": {
      "text/plain": [
       "'действие трагедии уильяма шекспира король лир начинается в британии в замке короля герой одноимённого произведения представлен человеком имеющим неограниченную власть осознавая своё превосходство над окружающими он был уверен что царская сила велика а влияние его как отца на дочерей вечно однако пришла пора подумать пожилому человеку о своей будущей старости и замужестве дочерей гонерильи реганы корделии супруги герцогов корнуола и олбенипрежде чем указать какая часть наследства достанется каждо'"
      ]
     },
     "execution_count": 266,
     "metadata": {},
     "output_type": "execute_result"
    }
   ],
   "source": [
    "test_text[:500]"
   ]
  },
  {
   "cell_type": "code",
   "execution_count": 267,
   "metadata": {},
   "outputs": [
    {
     "data": {
      "text/plain": [
       "'дичкф ги4фыйеидгг4вгшя0уй4литк1гый4т\\xa0ы\\xa0шя4шгы4ойэгойифк04 4юыгфйогг4 4мйути4т\\xa0ы\\xa0ш04еиы\\xa0ч4\\xa0до\\xa0гужоо\\xa0е\\xa041ы\\xa0гм идиог041ыидкфй шио4эиш\\xa0 ит\\xa0у4гуирьгу4ои\\xa0еыйогэиоовр4 шйкфя4\\xa0к\\xa0мой й04к \\xa0ж41ыи \\xa0кц\\xa0дкф \\xa04ойд4\\xa0тывайрьгуг4\\xa0о4юбш4в иыио4эф\\xa04хйыктй04кгшй4 ишгтй4й4 шг0оги4ие\\xa04тйт4\\xa0фхй4ой4д\\xa0эиыич4 иэо\\xa04\\xa0дойт\\xa041ыглшй41\\xa0ый41\\xa0двуйфя41\\xa0агш\\xa0ув4эиш\\xa0 итв4\\xa04к \\xa0ич4ювдвьич4кфйы\\xa0кфг4г4мйуваикф и4д\\xa0эиыич4е\\xa0оиыгшяг4ыиейоб4т\\xa0ыдишгг4кв1ывег4еиых\\xa0е\\xa0 4т\\xa0ыов\\xa0шй4г4\\xa0шюиог1ыиади4эиу4втймйфя4тйтй04эйкфя4ойкшидкф й4д\\xa0кфйоифк04тйад\\xa0'"
      ]
     },
     "execution_count": 267,
     "metadata": {},
     "output_type": "execute_result"
    }
   ],
   "source": [
    "# Зашифруем текст\n",
    "encode_text = simply_encoder(test_text)\n",
    "encode_text[:500]"
   ]
  },
  {
   "cell_type": "code",
   "execution_count": 268,
   "metadata": {},
   "outputs": [
    {
     "data": {
      "text/plain": [
       "'дайлтриа тсеьадии мивяпге жаклуисе косовя вис небинеатлп р чситении р зегка косовп ьасой одноигхнноьо усоизраданип усадлтерван бавораког игаenиг наоьсенибаннмe рвелтя олознереп лрох усаролюодлтро нед оксмшеenиги он чыв мрасан бто цеслкеп ливе равике е рвипниа аьо кек отце не добасай рабно однеко усижве уосе уодмгетя уошивогм баворакм о лроай чмдмnай лтесолти и зегмшалтра добасай ьонасивяи саьены косдавии лмусмьи ьасцоьор коснмове и овчаниусашда баг мкезетя кекеп белтя нелвадлтре долтенатлп кешдо'"
      ]
     },
     "execution_count": 268,
     "metadata": {},
     "output_type": "execute_result"
    }
   ],
   "source": [
    "# Попробуем его восстановить\n",
    "simply_decoder(encode_text, train_frequency)[:500]"
   ]
  },
  {
   "cell_type": "code",
   "execution_count": 269,
   "metadata": {},
   "outputs": [
    {
     "data": {
      "text/plain": [
       "0.5087303936075762"
      ]
     },
     "execution_count": 269,
     "metadata": {},
     "output_type": "execute_result"
    }
   ],
   "source": [
    "simple_metric(test_text, simply_decoder(encode_text, train_frequency))"
   ]
  },
  {
   "cell_type": "markdown",
   "metadata": {},
   "source": [
    "### Мы расшифровали с долей правильных расшифрованных бука ~ 0.5087303936075762"
   ]
  },
  {
   "cell_type": "markdown",
   "metadata": {},
   "source": [
    "# Пункт 2"
   ]
  },
  {
   "cell_type": "code",
   "execution_count": 270,
   "metadata": {},
   "outputs": [],
   "source": [
    "def get_bigram_frequency(path):\n",
    "    res = ''\n",
    "    try:\n",
    "        with open(path, 'r',  encoding='utf-8') as f:\n",
    "            for line in f:\n",
    "                res += re.sub(r'[^\\w\\s]', '', line.strip().lower()).replace('\\t', ' ')\n",
    "    except OSError or FileNotFoundError:\n",
    "        res = path\n",
    "    bigram_list = [res[i - 1:i + 1] for i in range(1, len(res))]\n",
    "    frequency = Counter(bigram_list)\n",
    "    len_corpus = len(bigram_list)\n",
    "    dict_frequency = {}\n",
    "    for token in frequency.keys():\n",
    "        dict_frequency[token] = frequency[token] / len_corpus\n",
    "    return dict_frequency"
   ]
  },
  {
   "cell_type": "code",
   "execution_count": 271,
   "metadata": {},
   "outputs": [],
   "source": [
    "train_frequency = get_bigram_frequency('WarAndPeace.txt')"
   ]
  },
  {
   "cell_type": "code",
   "execution_count": 272,
   "metadata": {},
   "outputs": [
    {
     "data": {
      "text/plain": [
       "1575"
      ]
     },
     "execution_count": 272,
     "metadata": {},
     "output_type": "execute_result"
    }
   ],
   "source": [
    "len(train_frequency)"
   ]
  },
  {
   "cell_type": "code",
   "execution_count": 273,
   "metadata": {},
   "outputs": [],
   "source": [
    "def bigram_decoder(test_text, train_frequency):\n",
    "    test_frequency = get_bigram_frequency(test_text)\n",
    "    \n",
    "    res_train = []\n",
    "    for key, val in train_frequency.items():\n",
    "        res_train.append([key, val])\n",
    "    res_train.sort(key=lambda x: x[1], reverse=True)\n",
    "    \n",
    "    res_test = []\n",
    "    for key, val in test_frequency.items():\n",
    "        res_test.append([key, val])\n",
    "    res_test.sort(key=lambda x: x[1], reverse=True)\n",
    "    \n",
    "    decode_dict = {}\n",
    "    for x, y in zip(res_test, res_train):\n",
    "        decode_dict[x[0]] = y[0]\n",
    "\n",
    "    res_text= ''\n",
    "    for ind in range(1, len(test_text) + 1, 2):\n",
    "        try:\n",
    "            res_text += decode_dict[test_text[ind - 1: ind + 1]]\n",
    "        except KeyError:\n",
    "            res_text = res_text[:-1]\n",
    "            res_text += decode_dict[test_text[ind - 2: ind]]\n",
    "    return res_text"
   ]
  },
  {
   "cell_type": "code",
   "execution_count": 274,
   "metadata": {},
   "outputs": [
    {
     "data": {
      "text/plain": [
       "'ор pинегиенаших и охил cе мигиулна пголая еравнеиднетьте кзаво бови лик ie итонору  стоба лякрытатчт нй крбр гь еео м аж бсеь  рриу туы поейрьесалышщеот vь чевысет коа лунута у оод ай хокавуажин ннеьнивикньрьеси скзаич дв м десп нчиn ан врыни криыле е сеееов иве нанннрочиале елпрм рав зя номнетоо воафе еннао омпан я ен жазий рриу туон нкнятраenмуусра сныкасяпожеекуктиин иелпрм раол твоили м имак пгоорери erй  ши ши фчту  пгочелае и латровй смор рэт данк ко пки у рт коалт няажине ел соттьте пa ел'"
      ]
     },
     "execution_count": 274,
     "metadata": {},
     "output_type": "execute_result"
    }
   ],
   "source": [
    "bigram_decoder(encode_text, train_frequency)[:500]"
   ]
  },
  {
   "cell_type": "code",
   "execution_count": 275,
   "metadata": {},
   "outputs": [
    {
     "data": {
      "text/plain": [
       "0.10298905001479727"
      ]
     },
     "execution_count": 275,
     "metadata": {},
     "output_type": "execute_result"
    }
   ],
   "source": [
    "simple_metric(test_text, bigram_decoder(encode_text, train_frequency))"
   ]
  },
  {
   "cell_type": "code",
   "execution_count": 276,
   "metadata": {},
   "outputs": [],
   "source": [
    "def bigram_decoder_2(test_text, train_frequency):\n",
    "    test_frequency = get_bigram_frequency(test_text)\n",
    "    \n",
    "    res_train = []\n",
    "    for key, val in train_frequency.items():\n",
    "        res_train.append([key, val])\n",
    "    res_train.sort(key=lambda x: x[1], reverse=True)\n",
    "    \n",
    "    res_test = []\n",
    "    for key, val in test_frequency.items():\n",
    "        res_test.append([key, val])\n",
    "    res_test.sort(key=lambda x: x[1], reverse=True)\n",
    "    \n",
    "    decode_dict = {}\n",
    "    for x, y in zip(res_test, res_train):\n",
    "        decode_dict[x[0]] = y[0]\n",
    "\n",
    "    res_text= ''\n",
    "    for ind in range(1, len(test_text) + 1, 1):\n",
    "        try:\n",
    "            if ind - 1 > 0:\n",
    "                if (test_frequency[test_text[ind - 1: ind + 1]] <\n",
    "                    test_frequency[test_text[ind - 2: ind]]):\n",
    "                    res_text = res_text[:-1]\n",
    "                    res_text += decode_dict[test_text[ind - 2: ind]]\n",
    "                else:\n",
    "                    res_text += decode_dict[test_text[ind - 1: ind + 1]][1:]\n",
    "            else:\n",
    "                res_text += decode_dict[test_text[ind - 1: ind + 1]][1:]\n",
    "        except KeyError:\n",
    "            pass\n",
    "    return res_text"
   ]
  },
  {
   "cell_type": "code",
   "execution_count": 277,
   "metadata": {},
   "outputs": [
    {
     "data": {
      "text/plain": [
       "'оет сбы ионаи гои дгиебсе мтумеьае тгнлая ервлнедрнетье  лзаво бови ликекми тгнла   сноааомл еснтл лно нолев рьоввойм г  таяь рприув тоапеейь саа тчтнаоврьачеы кни с аклуунтау  оодаойм дкауом сд ннсва  икньь ес аскзбос д сть  ро ниныман  огие в ерне е кеееов иелн аннарихе ееоелрсм а виц наомнеонойваши о оа оеомус о оенжогы онприувтуна  оодтрзаумустао  бно си и к ийеи с  оелрсм раолтсвоили мвеоак тгоорери осйи ши  статоли тгочеаие  аларьовйм нр ипра данк о  анан  р  ся нт я г сееоса  б тьев аннел'"
      ]
     },
     "execution_count": 277,
     "metadata": {},
     "output_type": "execute_result"
    }
   ],
   "source": [
    "bigram_decoder_2(encode_text, train_frequency)[:500]"
   ]
  },
  {
   "cell_type": "code",
   "execution_count": 278,
   "metadata": {},
   "outputs": [
    {
     "data": {
      "text/plain": [
       "0.11397276494967436"
      ]
     },
     "execution_count": 278,
     "metadata": {},
     "output_type": "execute_result"
    }
   ],
   "source": [
    "simple_metric(test_text, bigram_decoder_2(encode_text, train_frequency))"
   ]
  },
  {
   "cell_type": "markdown",
   "metadata": {},
   "source": [
    "### Результат не очень и хуже чем с униграмами и кажется это связано с тем, что я декодировал биграмами без пересечений (т.е. заменял зашифрованный текст кусками размером в 2 символа с шагом 2, соответсвующим по частоте биграмам трейна. \n",
    "### 2ой подход с биграмами, где рассматриваю пересечение 2ух биграм по одной букве и оставлю право выдать букву (на пересечении) той биграме, у которой вероятность появления больше, дало прибавку в одну сотую. Для примера тут имеется ввиду случай АБ БС и как их объединить, чтоб получить АБС. В общем случае у них не обязательно эта центральная буква будет одинакова.\n",
    "### Думаю, что если выбирать биграму на замену из соображений какая буква первая была, то результат сильно улучшится "
   ]
  },
  {
   "cell_type": "markdown",
   "metadata": {},
   "source": [
    "### Еще предположение, что все таки во время трейна, мы оставили сликом много левых символов. Поэтому предлагаю повторить 1, 2 пункт по второму разу только с символами исключительно русского алфавита и пробела. Это могло дать много лишних комбинаций которые все и попортили."
   ]
  },
  {
   "cell_type": "markdown",
   "metadata": {},
   "source": [
    "### Повторим первый пункт"
   ]
  },
  {
   "cell_type": "code",
   "execution_count": 496,
   "metadata": {},
   "outputs": [],
   "source": [
    "def get_frequency(path):\n",
    "    res = ''\n",
    "    try:\n",
    "        with open(path, 'r',  encoding='utf-8') as f:\n",
    "            for line in f:\n",
    "                res += ''.join(re.findall(r'[а-я ]', line.strip().lower())).replace('\\t', ' ')\n",
    "                \n",
    "    except OSError or FileNotFoundError:\n",
    "        res = path\n",
    "    frequency = Counter(res)\n",
    "    len_corpus = len(res)\n",
    "    dict_frequency = {}\n",
    "    for token in frequency.keys():\n",
    "        dict_frequency[token] = frequency[token] / len_corpus\n",
    "    return dict_frequency"
   ]
  },
  {
   "cell_type": "code",
   "execution_count": 280,
   "metadata": {},
   "outputs": [],
   "source": [
    "train_frequency = get_frequency('WarAndPeace.txt')"
   ]
  },
  {
   "cell_type": "code",
   "execution_count": 281,
   "metadata": {},
   "outputs": [
    {
     "data": {
      "text/plain": [
       "33"
      ]
     },
     "execution_count": 281,
     "metadata": {},
     "output_type": "execute_result"
    }
   ],
   "source": [
    "len(train_frequency)"
   ]
  },
  {
   "cell_type": "code",
   "execution_count": 282,
   "metadata": {},
   "outputs": [],
   "source": [
    "alphabet = list(train_frequency.keys())"
   ]
  },
  {
   "cell_type": "code",
   "execution_count": 283,
   "metadata": {},
   "outputs": [],
   "source": [
    "# Прочтем тестовый текст\n",
    "test_text = ''\n",
    "with open('test.txt', 'r',  encoding='utf-8') as f:\n",
    "        for line in f:\n",
    "            test_text += ''.join(re.findall(r'[а-я ]', line.strip().lower())).replace('\\t', ' ')"
   ]
  },
  {
   "cell_type": "code",
   "execution_count": 284,
   "metadata": {},
   "outputs": [
    {
     "data": {
      "text/plain": [
       "32"
      ]
     },
     "execution_count": 284,
     "metadata": {},
     "output_type": "execute_result"
    }
   ],
   "source": [
    "len(get_frequency(test_text))"
   ]
  },
  {
   "cell_type": "code",
   "execution_count": 285,
   "metadata": {},
   "outputs": [
    {
     "data": {
      "text/plain": [
       "'дтсьумэтау ржтдээазэйющярагткьоэ ракв вйюайэ африэфртуьщамац эурфээамалряктакв вйщажт всавдфвэяффвжвао вэлмтдтфэщао тдьурмйтфаитйвмтквяаэятпбэяафтвж рфэитффзпамйрьуюавьвлфрмрщаьмвао тмвьывдьумвафрдавк зчрпбэяэавфацшйазмт тфаиуваер ькрщаьэйрамтйэкрарамйэщфэтатжвакркавуерафрадвит тсамтифвавдфрквао эгйраов раовдзяруюаовчэйвязаитйвмткзаваьмвтсацздзбтсаьур вьуэаэалрязчтьумтадвит тсажвфт эйюэа тжрфшакв дтйээаьзо зжэажт евжвмакв фзвйраэавйцтфэо тчдтаитяазкрлруюакркрщаирьуюафрьйтдьумрадвьурфтуьщакрчдвса'"
      ]
     },
     "execution_count": 285,
     "metadata": {},
     "output_type": "execute_result"
    }
   ],
   "source": [
    "# Видно что по размеру уже совпадают!\n",
    "encode_text = simply_encoder(test_text)\n",
    "encode_text[:500]"
   ]
  },
  {
   "cell_type": "code",
   "execution_count": 286,
   "metadata": {},
   "outputs": [
    {
     "data": {
      "text/plain": [
       "'дайлтриа тсеьадии мивяпге жаклуисе косовя вис небинеатлп р чситении р зегка косовп ьасой одноигнноьо усоизраданип усадлтерван бавораког игахэиг наоьсенибаннмх рвелтя олознереп лро усаролюодлтро нед оксмшехэиги он чыв мрасан бто цеслкеп ливе равике е рвипниа аьо кек отце не добасай рабно однеко усижве уосе уодмгетя уошивогм баворакм о лроай чмдмэай лтесолти и зегмшалтра добасай ьонасивяи саьены косдавии лмусмьи ьасцоьор коснмове и овчаниусашда баг мкезетя кекеп белтя нелвадлтре долтенатлп кешдой '"
      ]
     },
     "execution_count": 286,
     "metadata": {},
     "output_type": "execute_result"
    }
   ],
   "source": [
    "simply_decoder(encode_text, train_frequency)[:500]"
   ]
  },
  {
   "cell_type": "code",
   "execution_count": 287,
   "metadata": {},
   "outputs": [
    {
     "data": {
      "text/plain": [
       "0.5135699373695198"
      ]
     },
     "execution_count": 287,
     "metadata": {},
     "output_type": "execute_result"
    }
   ],
   "source": [
    "simple_metric(test_text, simply_decoder(encode_text, train_frequency))"
   ]
  },
  {
   "cell_type": "code",
   "execution_count": 288,
   "metadata": {},
   "outputs": [],
   "source": [
    "### Результат стал чуть лучше для Униграм!!! Проверим на биграмах"
   ]
  },
  {
   "cell_type": "markdown",
   "metadata": {},
   "source": [
    "### Повторим 2 пункт"
   ]
  },
  {
   "cell_type": "code",
   "execution_count": 315,
   "metadata": {},
   "outputs": [],
   "source": [
    "def get_bigram_frequency(path, absolute_values=False):\n",
    "    res = ''\n",
    "    try:\n",
    "        with open(path, 'r',  encoding='utf-8') as f:\n",
    "            for line in f:\n",
    "                res += ''.join(re.findall(r'[а-я ]', line.strip().lower())).replace('\\t', ' ')\n",
    "    except OSError or FileNotFoundError:\n",
    "        res = path\n",
    "    bigram_list = [res[i - 1:i + 1] for i in range(1, len(res))]\n",
    "    frequency = Counter(bigram_list)\n",
    "    len_corpus = len(bigram_list)\n",
    "    dict_frequency = {}\n",
    "    for token in frequency.keys():\n",
    "        if absolute_values:\n",
    "            dict_frequency[token] = frequency[token]\n",
    "        else:\n",
    "            dict_frequency[token] = frequency[token] / len_corpus\n",
    "    return dict_frequency"
   ]
  },
  {
   "cell_type": "code",
   "execution_count": 290,
   "metadata": {},
   "outputs": [
    {
     "data": {
      "text/plain": [
       "815"
      ]
     },
     "execution_count": 290,
     "metadata": {},
     "output_type": "execute_result"
    }
   ],
   "source": [
    "train_frequency = get_bigram_frequency('WarAndPeace.txt')\n",
    "len(train_frequency)"
   ]
  },
  {
   "cell_type": "code",
   "execution_count": 291,
   "metadata": {},
   "outputs": [
    {
     "data": {
      "text/plain": [
       "'лооиинтислстших и дьилвуе милкымст вь ося  джеалидалтьте кзам какои лак фр  топоруда иоба крляысоволо пос орлоко нл  г стаегакреазортовалькеьнваонессткореатры кот ся й бяал е нхо пл бой айщеин палньивикумаюльи скзачироор баксп ппаушри ницот кпрмуе е сеутко  ы  приннвопагое в ре бноормя помалтоо м зве енсто омбуаня ен жазсадепрлиту т пхоусноссшешано сный сянелеукуючтин  в ре бноолонм или  бимн  вь ло ди згл ахи шиачесли вь  аосе и остркол халодеадрорик ра вки удет рагот егщеине в  сертьте вщав но'"
      ]
     },
     "execution_count": 291,
     "metadata": {},
     "output_type": "execute_result"
    }
   ],
   "source": [
    "bigram_decoder(encode_text, train_frequency)[:500]"
   ]
  },
  {
   "cell_type": "code",
   "execution_count": 292,
   "metadata": {},
   "outputs": [
    {
     "data": {
      "text/plain": [
       "0.09871756635848494"
      ]
     },
     "execution_count": 292,
     "metadata": {},
     "output_type": "execute_result"
    }
   ],
   "source": [
    "simple_metric(test_text, bigram_decoder(encode_text, train_frequency))"
   ]
  },
  {
   "cell_type": "code",
   "execution_count": 293,
   "metadata": {},
   "outputs": [
    {
     "data": {
      "text/plain": [
       "'лет сбы  ости гоирогигаее мтумевте тьпося  деоалдралтье  лзам какои лакуке  тьпос да пооаомовльтовлпо пос оронконол  г ктагнаеепрлортоанлкнюньагонессткоена аы кот с айичуатау  одпол бдй йом сд пасва  икумюнль аскзылсрор инаде  панымри  огте ор дие е к утко   л  ринавихе ленв е  бо оийвпаомалополм шт о  т оеошеена оенжог р тепрлотута  оодтнзаашеатоо капо си и к сатт ср нв е  бноолн м или  ы ен  ть ло ди оилиахида иссола ть  асте  аосрнкол бно  реарори на  рири де  ся ат г г сеени  кеотьен ринв он'"
      ]
     },
     "execution_count": 293,
     "metadata": {},
     "output_type": "execute_result"
    }
   ],
   "source": [
    "bigram_decoder_2(encode_text, train_frequency)[:500]"
   ]
  },
  {
   "cell_type": "code",
   "execution_count": 294,
   "metadata": {},
   "outputs": [
    {
     "data": {
      "text/plain": [
       "0.10023866348448687"
      ]
     },
     "execution_count": 294,
     "metadata": {},
     "output_type": "execute_result"
    }
   ],
   "source": [
    "simple_metric(test_text, bigram_decoder_2(encode_text, train_frequency))"
   ]
  },
  {
   "cell_type": "markdown",
   "metadata": {},
   "source": [
    "### C Биграмами стало чуть хуже."
   ]
  },
  {
   "cell_type": "markdown",
   "metadata": {},
   "source": [
    "# Пункт 3"
   ]
  },
  {
   "cell_type": "code",
   "execution_count": 411,
   "metadata": {},
   "outputs": [],
   "source": [
    "train_frequency = get_bigram_frequency('WarAndPeace.txt', absolute_values=False)"
   ]
  },
  {
   "cell_type": "code",
   "execution_count": 391,
   "metadata": {},
   "outputs": [
    {
     "data": {
      "text/plain": [
       "815"
      ]
     },
     "execution_count": 391,
     "metadata": {},
     "output_type": "execute_result"
    }
   ],
   "source": [
    "len(train_frequency )"
   ]
  },
  {
   "cell_type": "code",
   "execution_count": 522,
   "metadata": {},
   "outputs": [],
   "source": [
    "def likeh(encode_text, train_frequency):\n",
    "    test_frequency = get_bigram_frequency(encode_text, absolute_values=False)\n",
    "    res = [test_frequency[key] * train_frequency[key]\n",
    "           for key in test_frequency.keys() if train_frequency.get(key)]\n",
    "    return sum(res)\n",
    "\n",
    "\n",
    "def mcmc_decode(encode_text, train_frequency, iterations=1000):\n",
    "    best_likeh = likeh(encode_text, train_frequency)\n",
    "    for ind in range(iterations):\n",
    "        random_text_encode = ''\n",
    "        random_bigram = random.choices(alphabet, k=2)\n",
    "        for ix in range(len(encode_text)):\n",
    "                #random_text_encode = random_text_encode[:-1]\n",
    "            if encode_text[ix] == random_bigram[0]:\n",
    "                random_text_encode += random_bigram[1]\n",
    "            elif encode_text[ix] == random_bigram[1]:\n",
    "                random_text_encode += random_bigram[0]\n",
    "            else:\n",
    "                random_text_encode += encode_text[ix]\n",
    "        random_likeh = likeh(random_text_encode, train_frequency)\n",
    "        if best_likeh < random_likeh:\n",
    "            encode_text = random_text_encode\n",
    "            best_likeh = random_likeh\n",
    "    return encode_text"
   ]
  },
  {
   "cell_type": "code",
   "execution_count": 487,
   "metadata": {},
   "outputs": [],
   "source": [
    "a = mcmc_decode(encode_text, train_frequency, iterations=25000)"
   ]
  },
  {
   "cell_type": "code",
   "execution_count": 488,
   "metadata": {},
   "outputs": [
    {
     "name": "stdout",
     "output_type": "stream",
     "text": [
      "1.0\n",
      "0.05815687444079928\n"
     ]
    }
   ],
   "source": [
    "print(simple_metric(test_text, a))\n",
    "print(simple_metric(test_text, encode_text))"
   ]
  },
  {
   "cell_type": "code",
   "execution_count": 491,
   "metadata": {},
   "outputs": [
    {
     "data": {
      "text/plain": [
       "'действие трагедии уильяма шекспира король лир начинается в британии в замке короля герой одноимнного произведения представлен человеком имеющим неограниченную власть осознавая сво превосходство над окружающими он был уверен что царская сила велика а влияние его как отца на дочерей вечно однако пришла пора подумать пожилому человеку о своей будущей старости и замужестве дочерей гонерильи реганы корделии супруги герцогов корнуола и олбенипрежде чем указать какая часть наследства достанется каждой '"
      ]
     },
     "execution_count": 491,
     "metadata": {},
     "output_type": "execute_result"
    }
   ],
   "source": [
    "a[:500]"
   ]
  },
  {
   "cell_type": "markdown",
   "metadata": {},
   "source": [
    "### Получилось сильно лучше."
   ]
  },
  {
   "cell_type": "markdown",
   "metadata": {},
   "source": [
    "# Пункт 4"
   ]
  },
  {
   "cell_type": "code",
   "execution_count": 492,
   "metadata": {},
   "outputs": [],
   "source": [
    "test_text = '←⇠⇒↟↹↷⇊↹↷↟↤↟↨←↹↝⇛⇯↳⇴⇒⇈↝⇊↾↹↟⇒↟↹⇷⇛⇞↨↟↹↝⇛⇯↳⇴⇒⇈↝⇊↾↹↨←⇌⇠↨↹⇙↹⇸↨⇛↙⇛↹⇠⇛⇛↲⇆←↝↟↞↹⇌⇛↨⇛⇯⇊↾↹⇒←↙⇌⇛↹⇷⇯⇛⇞↟↨⇴↨⇈↹⇠⇌⇛⇯←←↹↷⇠←↙⇛↹↷⇊↹↷⇠←↹⇠↤←⇒⇴⇒↟↹⇷⇯⇴↷↟⇒⇈↝⇛↹↟↹⇷⇛⇒⇙⇞↟↨←↹↳⇴⇌⇠↟↳⇴⇒⇈↝⇊↾↹↲⇴⇒⇒↹⇰⇴↹⇷⇛⇠⇒←↤↝←←↹⇞←↨↷←⇯↨⇛←↹⇰⇴↤⇴↝↟←↹⇌⇙⇯⇠⇴↹↘⇛↨↞↹⇌⇛↝←⇞↝⇛↹↞↹↝↟⇞←↙⇛↹↝←↹⇛↲←⇆⇴⇏'"
   ]
  },
  {
   "cell_type": "code",
   "execution_count": 494,
   "metadata": {},
   "outputs": [
    {
     "data": {
      "text/plain": [
       "28"
      ]
     },
     "execution_count": 494,
     "metadata": {},
     "output_type": "execute_result"
    }
   ],
   "source": [
    "len(set(test_text))"
   ]
  },
  {
   "cell_type": "code",
   "execution_count": 498,
   "metadata": {},
   "outputs": [],
   "source": [
    "unigram_frequency = get_frequency('WarAndPeace.txt')"
   ]
  },
  {
   "cell_type": "code",
   "execution_count": 504,
   "metadata": {},
   "outputs": [],
   "source": [
    "temp_list = [[k, v] for k, v in unigram_frequency.items()]"
   ]
  },
  {
   "cell_type": "code",
   "execution_count": null,
   "metadata": {},
   "outputs": [],
   "source": [
    "temp_list.sort[]"
   ]
  },
  {
   "cell_type": "code",
   "execution_count": 506,
   "metadata": {},
   "outputs": [],
   "source": [
    "temp = simply_decoder(test_text, unigram_frequency)"
   ]
  },
  {
   "cell_type": "code",
   "execution_count": 520,
   "metadata": {},
   "outputs": [],
   "source": [
    "a = mcmc_decode(temp, train_frequency, iterations=110000)"
   ]
  },
  {
   "cell_type": "code",
   "execution_count": 521,
   "metadata": {},
   "outputs": [
    {
     "data": {
      "text/plain": [
       "'если вы вижите норзальный или помти норзальный текст у чтого соодшения который легко промитать скорее всего вы все сжелали правильно и полумите заксизальный далл ба послежнее метвертое бажание курса эотя конемно я нимего не одешах'"
      ]
     },
     "execution_count": 521,
     "metadata": {},
     "output_type": "execute_result"
    }
   ],
   "source": [
    "a"
   ]
  },
  {
   "cell_type": "code",
   "execution_count": null,
   "metadata": {},
   "outputs": [],
   "source": []
  }
 ],
 "metadata": {
  "kernelspec": {
   "display_name": "Python 3",
   "language": "python",
   "name": "python3"
  },
  "language_info": {
   "codemirror_mode": {
    "name": "ipython",
    "version": 3
   },
   "file_extension": ".py",
   "mimetype": "text/x-python",
   "name": "python",
   "nbconvert_exporter": "python",
   "pygments_lexer": "ipython3",
   "version": "3.7.4"
  }
 },
 "nbformat": 4,
 "nbformat_minor": 4
}
