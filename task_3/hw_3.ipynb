{
 "cells": [
  {
   "cell_type": "code",
   "execution_count": 180,
   "metadata": {},
   "outputs": [],
   "source": [
    "import pandas as pd\n",
    "import numpy as np\n",
    "from collections import Counter\n",
    "import re\n",
    "import itertools"
   ]
  },
  {
   "cell_type": "markdown",
   "metadata": {},
   "source": [
    "# Пункт 1"
   ]
  },
  {
   "cell_type": "code",
   "execution_count": 208,
   "metadata": {},
   "outputs": [],
   "source": [
    "# Наша метрика\n",
    "def simple_metric(text, decode_text):\n",
    "    len_text = min(len(text), len(decode_text))\n",
    "    count = 0\n",
    "    for x, y in zip(text, decode_text):\n",
    "        if x == y:\n",
    "            count += 1\n",
    "    return count / len_text"
   ]
  },
  {
   "cell_type": "code",
   "execution_count": 181,
   "metadata": {},
   "outputs": [],
   "source": [
    "# Функция для получения частотного словаря\n",
    "def get_frequency(path):\n",
    "    res = ''\n",
    "    try:\n",
    "        with open(path, 'r',  encoding='utf-8') as f:\n",
    "            for line in f:\n",
    "                res += re.sub(r'[^\\w\\s]', '', line.strip().lower()).replace('\\t', ' ')\n",
    "    except OSError or FileNotFoundError:\n",
    "        res = path\n",
    "    frequency = Counter(res)\n",
    "    len_corpus = len(res)\n",
    "    dict_frequency = {}\n",
    "    for token in frequency.keys():\n",
    "        dict_frequency[token] = frequency[token] / len_corpus\n",
    "    return dict_frequency"
   ]
  },
  {
   "cell_type": "code",
   "execution_count": 182,
   "metadata": {},
   "outputs": [],
   "source": [
    "# Получим частотный словарь на основе тренировочных данных \"Война и Мир\"\n",
    "train_frequency = get_frequency('WarAndPeace.txt')"
   ]
  },
  {
   "cell_type": "code",
   "execution_count": 304,
   "metadata": {},
   "outputs": [],
   "source": [
    "# Простенький энкодер\n",
    "def simply_encoder(text='', parsed=False):\n",
    "    if not parsed:\n",
    "        text = re.sub(r'[^\\w\\s]', '', text.strip().lower()).replace('\\t', ' ')\n",
    "    count = Counter(text)\n",
    "    token_list = list(count.keys())\n",
    "    token_list_2 = token_list[:]\n",
    "    random.shuffle(token_list_2)\n",
    "    encode_dict = {}\n",
    "    for ind in range(len(token_list)):\n",
    "        encode_dict[token_list[ind]] = token_list_2[ind]\n",
    "    res_text = ''\n",
    "    for token in text:\n",
    "        res_text += encode_dict[token]\n",
    "    return res_text\n",
    "\n",
    "\n",
    "def simply_decoder(test_text, train_frequency):\n",
    "    test_frequency = get_frequency(test_text)\n",
    "    \n",
    "    res_train = []\n",
    "    for key, val in train_frequency.items():\n",
    "        res_train.append([key, val])\n",
    "    res_train.sort(key=lambda x: x[1], reverse=True)\n",
    "    \n",
    "    res_test = []\n",
    "    for key, val in test_frequency.items():\n",
    "        res_test.append([key, val])\n",
    "    res_test.sort(key=lambda x: x[1], reverse=True)\n",
    "    \n",
    "    decode_dict = {}\n",
    "    for x, y in zip(res_test, res_train):\n",
    "        decode_dict[x[0]] = y[0]\n",
    "\n",
    "    res_text= ''\n",
    "    for token in test_text:\n",
    "        res_text += decode_dict[token]\n",
    "    return res_text"
   ]
  },
  {
   "cell_type": "code",
   "execution_count": 184,
   "metadata": {},
   "outputs": [],
   "source": [
    "# Прочтем тестовый текст\n",
    "test_text = ''\n",
    "with open('test.txt', 'r',  encoding='utf-8') as f:\n",
    "        for line in f:\n",
    "            test_text += re.sub(r'[^\\w\\s]', '', line.strip().lower()).replace('\\t', ' ')"
   ]
  },
  {
   "cell_type": "code",
   "execution_count": 185,
   "metadata": {},
   "outputs": [
    {
     "data": {
      "text/plain": [
       "'действие трагедии уильяма шекспира король лир начинается в британии в замке короля герой одноимённого произведения представлен человеком имеющим неограниченную власть осознавая своё превосходство над окружающими он был уверен что царская сила велика а влияние его как отца на дочерей вечно однако пришла пора подумать пожилому человеку о своей будущей старости и замужестве дочерей гонерильи реганы корделии супруги герцогов корнуола и олбенипрежде чем указать какая часть наследства достанется каждо'"
      ]
     },
     "execution_count": 185,
     "metadata": {},
     "output_type": "execute_result"
    }
   ],
   "source": [
    "test_text[:500]"
   ]
  },
  {
   "cell_type": "code",
   "execution_count": 195,
   "metadata": {},
   "outputs": [
    {
     "data": {
      "text/plain": [
       "'ющванфдщзнрслщюддз1джй0ёсзещкапдрсзкуружйзждрзшсьдшсщна0зфзмрднсшддзфзысёкщзкуруж0злщрувзуюшудёяшшулузпрудыфщющшд0зпрщюансфжщшзьщжуфщкуёздёщц дёзшщулрсшдьщшш1цзфжсанйзуауышсфс0зафуязпрщфуатуюанфузшсюзукр1бсц дёдзушзмхжз1фщрщшзьнузосракс0заджсзфщждксзсзфжд0шдщзщлузкскзуносзшсзюуьщрщвзфщьшузуюшскузпрдежсзпурсзпую1ёснйзпубджуё1зьщжуфщк1зузафущвзм1ю1 щвзансруандздзысё1бщанфщзюуьщрщвзлушщрджйдзрщлсшхзкурющжддза1пр1лдзлщроулуфзкурш1ужсздзужмщшдпрщбющзьщёз1ксыснйзкскс0зьсанйзшсажщюанфсзюуансшщна0зксбюу'"
      ]
     },
     "execution_count": 195,
     "metadata": {},
     "output_type": "execute_result"
    }
   ],
   "source": [
    "# Зашифруем текст\n",
    "encode_text = simply_encoder(test_text)\n",
    "encode_text[:500]"
   ]
  },
  {
   "cell_type": "code",
   "execution_count": 206,
   "metadata": {},
   "outputs": [
    {
     "data": {
      "text/plain": [
       "'дайлтриа тсеьадии мивяпге жаклуисе косовя вис небинеатлп р чситении р зегка косовп ьасой одноигхнноьо усоизраданип усадлтерван бавораког игаenиг наоьсенибаннмe рвелтя олознереп лрох усаролюодлтро нед оксмшеenиги он чыв мрасан бто цеслкеп ливе равике е рвипниа аьо кек отце не добасай рабно однеко усижве уосе уодмгетя уошивогм баворакм о лроай чмдмnай лтесолти и зегмшалтра добасай ьонасивяи саьены косдавии лмусмьи ьасцоьор коснмове и овчаниусашда баг мкезетя кекеп белтя нелвадлтре долтенатлп кешдо'"
      ]
     },
     "execution_count": 206,
     "metadata": {},
     "output_type": "execute_result"
    }
   ],
   "source": [
    "# Попробуем его восстановить\n",
    "simply_decoder(encode_text, train_frequency)[:500]"
   ]
  },
  {
   "cell_type": "code",
   "execution_count": 209,
   "metadata": {},
   "outputs": [
    {
     "data": {
      "text/plain": [
       "0.5087303936075762"
      ]
     },
     "execution_count": 209,
     "metadata": {},
     "output_type": "execute_result"
    }
   ],
   "source": [
    "simple_metric(test_text, simply_decoder(encode_text, train_frequency))"
   ]
  },
  {
   "cell_type": "markdown",
   "metadata": {},
   "source": [
    "### Мы расшифровали с долей правильных расшифрованных бука ~ 0.5087303936075762"
   ]
  },
  {
   "cell_type": "markdown",
   "metadata": {},
   "source": [
    "# Пункт 2"
   ]
  },
  {
   "cell_type": "code",
   "execution_count": 222,
   "metadata": {},
   "outputs": [],
   "source": [
    "def get_bigram_frequency(path):\n",
    "    res = ''\n",
    "    try:\n",
    "        with open(path, 'r',  encoding='utf-8') as f:\n",
    "            for line in f:\n",
    "                res += re.sub(r'[^\\w\\s]', '', line.strip().lower()).replace('\\t', ' ')\n",
    "    except OSError or FileNotFoundError:\n",
    "        res = path\n",
    "    bigram_list = [res[i - 1:i + 1] for i in range(1, len(res))]\n",
    "    frequency = Counter(bigram_list)\n",
    "    len_corpus = len(bigram_list)\n",
    "    dict_frequency = {}\n",
    "    for token in frequency.keys():\n",
    "        dict_frequency[token] = frequency[token] / len_corpus\n",
    "    return dict_frequency"
   ]
  },
  {
   "cell_type": "code",
   "execution_count": 242,
   "metadata": {},
   "outputs": [],
   "source": [
    "train_frequency = get_bigram_frequency('WarAndPeace.txt')"
   ]
  },
  {
   "cell_type": "code",
   "execution_count": 226,
   "metadata": {},
   "outputs": [
    {
     "data": {
      "text/plain": [
       "1575"
      ]
     },
     "execution_count": 226,
     "metadata": {},
     "output_type": "execute_result"
    }
   ],
   "source": [
    "len(train_frequency)"
   ]
  },
  {
   "cell_type": "code",
   "execution_count": 248,
   "metadata": {},
   "outputs": [],
   "source": [
    "def bigram_decoder(test_text, train_frequency):\n",
    "    test_frequency = get_bigram_frequency(test_text)\n",
    "    \n",
    "    res_train = []\n",
    "    for key, val in train_frequency.items():\n",
    "        res_train.append([key, val])\n",
    "    res_train.sort(key=lambda x: x[1], reverse=True)\n",
    "    \n",
    "    res_test = []\n",
    "    for key, val in test_frequency.items():\n",
    "        res_test.append([key, val])\n",
    "    res_test.sort(key=lambda x: x[1], reverse=True)\n",
    "    \n",
    "    decode_dict = {}\n",
    "    for x, y in zip(res_test, res_train):\n",
    "        decode_dict[x[0]] = y[0]\n",
    "\n",
    "    res_text= ''\n",
    "    for ind in range(1, len(test_text) + 1, 2):\n",
    "        try:\n",
    "            res_text += decode_dict[test_text[ind - 1: ind + 1]]\n",
    "        except KeyError:\n",
    "            res_text = res_text[:-1]\n",
    "            res_text += decode_dict[test_text[ind - 2: ind]]\n",
    "    return res_text"
   ]
  },
  {
   "cell_type": "code",
   "execution_count": 256,
   "metadata": {},
   "outputs": [
    {
     "data": {
      "text/plain": [
       "'ор pинегиенаших и охил cе мигиулна пголая еравнеиднетьте кзаво бови лик ie итонору  стоба лякрытатчт нй крбр гь еео м аж бсеь  рриу туы поейрьесалышщеот vь чевысет коа лунута у оод ай хокавуажин ннеьнивикньрьеси скзаич дв м десп нчиn ан врыни криыле е сеееов иве нанннрочиале елпрм рав зя номнетоо воафе еннао омпан я ен жазий рриу туон нкнятраenмуусра сныкасяпожеекуктиин иелпрм раол твоили м имак пгоорери erй  ши ши фчту  пгочелае и латровй смор рэт данк ко пки у рт коалт няажине ел соттьте пa ел'"
      ]
     },
     "execution_count": 256,
     "metadata": {},
     "output_type": "execute_result"
    }
   ],
   "source": [
    "bigram_decoder(encode_text, train_frequency)[:500]"
   ]
  },
  {
   "cell_type": "code",
   "execution_count": 257,
   "metadata": {},
   "outputs": [
    {
     "data": {
      "text/plain": [
       "0.10298905001479727"
      ]
     },
     "execution_count": 257,
     "metadata": {},
     "output_type": "execute_result"
    }
   ],
   "source": [
    "simple_metric(test_text, bigram_decoder(encode_text, train_frequency))"
   ]
  },
  {
   "cell_type": "code",
   "execution_count": 319,
   "metadata": {},
   "outputs": [],
   "source": [
    "def bigram_decoder_2(test_text, train_frequency):\n",
    "    test_frequency = get_bigram_frequency(test_text)\n",
    "    \n",
    "    res_train = []\n",
    "    for key, val in train_frequency.items():\n",
    "        res_train.append([key, val])\n",
    "    res_train.sort(key=lambda x: x[1], reverse=True)\n",
    "    \n",
    "    res_test = []\n",
    "    for key, val in test_frequency.items():\n",
    "        res_test.append([key, val])\n",
    "    res_test.sort(key=lambda x: x[1], reverse=True)\n",
    "    \n",
    "    decode_dict = {}\n",
    "    for x, y in zip(res_test, res_train):\n",
    "        decode_dict[x[0]] = y[0]\n",
    "\n",
    "    res_text= ''\n",
    "    for ind in range(1, len(test_text) + 1, 1):\n",
    "        try:\n",
    "            if ind - 1 > 0:\n",
    "                if (test_frequency[test_text[ind - 1: ind + 1]] <\n",
    "                    test_frequency[test_text[ind - 2: ind]]):\n",
    "                    res_text = res_text[:-1]\n",
    "                    res_text += decode_dict[test_text[ind - 2: ind]]\n",
    "                else:\n",
    "                    res_text += decode_dict[test_text[ind - 1: ind + 1]][1:]\n",
    "            else:\n",
    "                res_text += decode_dict[test_text[ind - 1: ind + 1]][1:]\n",
    "        except KeyError:\n",
    "            pass\n",
    "    return res_text"
   ]
  },
  {
   "cell_type": "code",
   "execution_count": 287,
   "metadata": {},
   "outputs": [
    {
     "data": {
      "text/plain": [
       "'оет сбы ионаи гои дгиебсе мтумеьае тгнлая ервлнедрнетье  лзаво бови ликекми тгнла   сноааомл еснтл лно нолев рьоввойм г  таяь рприув тоапеейь саа тчтнаоврьачеы кни с аклуунтау  оодаойм дкауом сд ннсва  икньь ес аскзбос д сть  ро ниныман  огие в ерне е кеееов иелн аннарихе ееоелрсм а виц наомнеонойваши о оа оеомус о оенжогы онприувтуна  оодтрзаумустао  бно си и к ийеи с  оелрсм раолтсвоили мвеоак тгоорери осйи ши  статоли тгочеаие  аларьовйм нр ипра данк о  анан  р  ся нт я г сееоса  б тьев аннел'"
      ]
     },
     "execution_count": 287,
     "metadata": {},
     "output_type": "execute_result"
    }
   ],
   "source": [
    "bigram_decoder_2(encode_text, train_frequency)[:500]"
   ]
  },
  {
   "cell_type": "code",
   "execution_count": 288,
   "metadata": {},
   "outputs": [
    {
     "data": {
      "text/plain": [
       "0.11397276494967436"
      ]
     },
     "execution_count": 288,
     "metadata": {},
     "output_type": "execute_result"
    }
   ],
   "source": [
    "simple_metric(test_text, bigram_decoder_2(encode_text, train_frequency))"
   ]
  },
  {
   "cell_type": "markdown",
   "metadata": {},
   "source": [
    "### Результат не очень и хуже чем с униграмами и кажется это связано с тем, что я декодировал биграмами без пересечений (т.е. заменял зашифрованный текст кусками размером в 2 символа с шагом 2, соответсвующим по частоте биграмам трейна. \n",
    "### 2ой подход с биграмами, где рассматриваю пересечение 2ух биграм по одной букве и оставлю право выдать букву (на пересечении) той биграме, у которой вероятность появления больше, дало прибавку в одну сотую. Для примера тут имеется ввиду случай АБ БС и как их объединить, чтоб получить АБС. В общем случае у них не обязательно эта центральная буква будет одинакова.\n",
    "### Думаю, что если выбирать биграму на замену из соображений какая буква первая была, то результат сильно улучшится "
   ]
  },
  {
   "cell_type": "markdown",
   "metadata": {},
   "source": [
    "### Еще предположение, что все таки во время трейна, мы оставили сликом много левых символов. Поэтому предлагаю повторить 1, 2 пункт по второму разу только с символами исключительно русского алфавита и пробела. Это могло дать много лишних комбинаций которые все и попортили."
   ]
  },
  {
   "cell_type": "markdown",
   "metadata": {},
   "source": [
    "### Повторим первый пункт"
   ]
  },
  {
   "cell_type": "code",
   "execution_count": 295,
   "metadata": {},
   "outputs": [],
   "source": [
    "def get_frequency(path):\n",
    "    res = ''\n",
    "    try:\n",
    "        with open(path, 'r',  encoding='utf-8') as f:\n",
    "            for line in f:\n",
    "                res += ''.join(re.findall(r'[а-я ]', line.strip().lower())).replace('\\t', ' ')\n",
    "                \n",
    "    except OSError or FileNotFoundError:\n",
    "        res = path\n",
    "    frequency = Counter(res)\n",
    "    len_corpus = len(res)\n",
    "    dict_frequency = {}\n",
    "    for token in frequency.keys():\n",
    "        dict_frequency[token] = frequency[token] / len_corpus\n",
    "    return dict_frequency"
   ]
  },
  {
   "cell_type": "code",
   "execution_count": 296,
   "metadata": {},
   "outputs": [],
   "source": [
    "train_frequency = get_frequency('WarAndPeace.txt')"
   ]
  },
  {
   "cell_type": "code",
   "execution_count": 298,
   "metadata": {},
   "outputs": [
    {
     "data": {
      "text/plain": [
       "33"
      ]
     },
     "execution_count": 298,
     "metadata": {},
     "output_type": "execute_result"
    }
   ],
   "source": [
    "len(train_frequency)"
   ]
  },
  {
   "cell_type": "code",
   "execution_count": 299,
   "metadata": {},
   "outputs": [],
   "source": [
    "# Прочтем тестовый текст\n",
    "test_text = ''\n",
    "with open('test.txt', 'r',  encoding='utf-8') as f:\n",
    "        for line in f:\n",
    "            test_text += ''.join(re.findall(r'[а-я ]', line.strip().lower())).replace('\\t', ' ')"
   ]
  },
  {
   "cell_type": "code",
   "execution_count": 303,
   "metadata": {},
   "outputs": [
    {
     "data": {
      "text/plain": [
       "32"
      ]
     },
     "execution_count": 303,
     "metadata": {},
     "output_type": "execute_result"
    }
   ],
   "source": [
    "len(get_frequency(test_text))"
   ]
  },
  {
   "cell_type": "code",
   "execution_count": 305,
   "metadata": {},
   "outputs": [
    {
     "data": {
      "text/plain": [
       "'щхпнуыохйутсехщоойяо лчьсйвхднцотсйдзтз лй отйэсмоэсхунчйыйртоусэоойыйфсьдхйдзтз чйехтзпйзщэзоьээзезйцтзофыхщхэочйцтхщнусы хэймх зыхдзьйоьхжбоьйэхзетсэомхээяжйы снулйзнзфэсысчйнызйцтхызназщнуызйэсщйздтяисжбоьойзэйрк йяыхтхэймузйшстндсчйно сйых одсйсйы очэохйхезйдсдйзушсйэсйщзмхтхпйыхмэзйзщэсдзйцтов сйцзтсйцзщяьсулйцзио зьяймх зыхдяйзйнызхпйрящябхпйнустзнуойойфсьяихнуыхйщзмхтхпйезэхто лойтхесэкйдзтщх оойняцтяеойехтшзезыйдзтэяз сйойз рхэоцтхищхймхьйядсфсулйдсдсчймснулйэсн хщнуысйщзнусэхунчйдсищзпй'"
      ]
     },
     "execution_count": 305,
     "metadata": {},
     "output_type": "execute_result"
    }
   ],
   "source": [
    "# Видно что по размеру уже совпадают!\n",
    "encode_text = simply_encoder(test_text)\n",
    "encode_text[:500]"
   ]
  },
  {
   "cell_type": "code",
   "execution_count": 306,
   "metadata": {},
   "outputs": [
    {
     "data": {
      "text/plain": [
       "'дайлтриа тсеьадии мивяпге жаклуисе косовя вис небинеатлп р чситении р зегка косовп ьасой одноигнноьо усоизраданип усадлтерван бавораког игахэиг наоьсенибаннмх рвелтя олознереп лро усаролюодлтро нед оксмшехэиги он чыв мрасан бто цеслкеп ливе равике е рвипниа аьо кек отце не добасай рабно однеко усижве уосе уодмгетя уошивогм баворакм о лроай чмдмэай лтесолти и зегмшалтра добасай ьонасивяи саьены косдавии лмусмьи ьасцоьор коснмове и овчаниусашда баг мкезетя кекеп белтя нелвадлтре долтенатлп кешдой '"
      ]
     },
     "execution_count": 306,
     "metadata": {},
     "output_type": "execute_result"
    }
   ],
   "source": [
    "simply_decoder(encode_text, train_frequency)[:500]"
   ]
  },
  {
   "cell_type": "code",
   "execution_count": 307,
   "metadata": {},
   "outputs": [
    {
     "data": {
      "text/plain": [
       "0.5135699373695198"
      ]
     },
     "execution_count": 307,
     "metadata": {},
     "output_type": "execute_result"
    }
   ],
   "source": [
    "simple_metric(test_text, simply_decoder(encode_text, train_frequency))"
   ]
  },
  {
   "cell_type": "code",
   "execution_count": 308,
   "metadata": {},
   "outputs": [],
   "source": [
    "### Результат стал чуть лучше для Униграм!!! Проверим на биграмах"
   ]
  },
  {
   "cell_type": "markdown",
   "metadata": {},
   "source": [
    "### Повторим 2 пункт"
   ]
  },
  {
   "cell_type": "code",
   "execution_count": 309,
   "metadata": {},
   "outputs": [],
   "source": [
    "def get_bigram_frequency(path):\n",
    "    res = ''\n",
    "    try:\n",
    "        with open(path, 'r',  encoding='utf-8') as f:\n",
    "            for line in f:\n",
    "                res += ''.join(re.findall(r'[а-я ]', line.strip().lower())).replace('\\t', ' ')\n",
    "    except OSError or FileNotFoundError:\n",
    "        res = path\n",
    "    bigram_list = [res[i - 1:i + 1] for i in range(1, len(res))]\n",
    "    frequency = Counter(bigram_list)\n",
    "    len_corpus = len(bigram_list)\n",
    "    dict_frequency = {}\n",
    "    for token in frequency.keys():\n",
    "        dict_frequency[token] = frequency[token] / len_corpus\n",
    "    return dict_frequency"
   ]
  },
  {
   "cell_type": "code",
   "execution_count": 310,
   "metadata": {},
   "outputs": [
    {
     "data": {
      "text/plain": [
       "815"
      ]
     },
     "execution_count": 310,
     "metadata": {},
     "output_type": "execute_result"
    }
   ],
   "source": [
    "train_frequency = get_bigram_frequency('WarAndPeace.txt')\n",
    "len(train_frequency)"
   ]
  },
  {
   "cell_type": "code",
   "execution_count": 311,
   "metadata": {},
   "outputs": [
    {
     "data": {
      "text/plain": [
       "'лооиинтислстших и дьилвуе милкымст вь ося  джеалидалтьте кзам какои лак фр  топоруда иоба крляысоволо пос орлоко нл  г стаегакреазортовалькеьнваонессткореатры кот ся й бяал е нхо пл бой айщеин палньивикумаюльи скзачироор баксп ппаушри ницот кпрмуе е сеутко  ы  приннвопагое в ре бноормя помалтоо м зве енсто омбуаня ен жазсадепрлиту т пхоусноссшешано сный сянелеукуючтин  в ре бноолонм или  бимн  вь ло ди згл ахи шиачесли вь  аосе и остркол халодеадрорик ра вки удет рагот егщеине в  сертьте вщав но'"
      ]
     },
     "execution_count": 311,
     "metadata": {},
     "output_type": "execute_result"
    }
   ],
   "source": [
    "bigram_decoder(encode_text, train_frequency)[:500]"
   ]
  },
  {
   "cell_type": "code",
   "execution_count": 312,
   "metadata": {},
   "outputs": [
    {
     "data": {
      "text/plain": [
       "0.09871756635848494"
      ]
     },
     "execution_count": 312,
     "metadata": {},
     "output_type": "execute_result"
    }
   ],
   "source": [
    "simple_metric(test_text, bigram_decoder(encode_text, train_frequency))"
   ]
  },
  {
   "cell_type": "code",
   "execution_count": 320,
   "metadata": {},
   "outputs": [
    {
     "data": {
      "text/plain": [
       "'лет сбы  ости гоирогигаее мтумевте тьпося  деоалдралтье  лзам какои лакуке  тьпос да пооаомовльтовлпо пос оронконол  г ктагнаеепрлортоанлкнюньагонессткоена аы кот с айичуатау  одпол бдй йом сд пасва  икумюнль аскзылсрор инаде  панымри  огте ор дие е к утко   л  ринавихе ленв е  бо оийвпаомалополм шт о  т оеошеена оенжог р тепрлотута  оодтнзаашеатоо капо си и к сатт ср нв е  бноолн м или  ы ен  ть ло ди оилиахида иссола ть  асте  аосрнкол бно  реарори на  рири де  ся ат г г сеени  кеотьен ринв он'"
      ]
     },
     "execution_count": 320,
     "metadata": {},
     "output_type": "execute_result"
    }
   ],
   "source": [
    "bigram_decoder_2(encode_text, train_frequency)[:500]"
   ]
  },
  {
   "cell_type": "code",
   "execution_count": 321,
   "metadata": {},
   "outputs": [
    {
     "data": {
      "text/plain": [
       "0.10023866348448687"
      ]
     },
     "execution_count": 321,
     "metadata": {},
     "output_type": "execute_result"
    }
   ],
   "source": [
    "simple_metric(test_text, bigram_decoder_2(encode_text, train_frequency))"
   ]
  },
  {
   "cell_type": "markdown",
   "metadata": {},
   "source": [
    "### C Биграмами стало чуть хуже."
   ]
  },
  {
   "cell_type": "code",
   "execution_count": null,
   "metadata": {},
   "outputs": [],
   "source": []
  }
 ],
 "metadata": {
  "kernelspec": {
   "display_name": "Python 3",
   "language": "python",
   "name": "python3"
  },
  "language_info": {
   "codemirror_mode": {
    "name": "ipython",
    "version": 3
   },
   "file_extension": ".py",
   "mimetype": "text/x-python",
   "name": "python",
   "nbconvert_exporter": "python",
   "pygments_lexer": "ipython3",
   "version": "3.7.4"
  }
 },
 "nbformat": 4,
 "nbformat_minor": 4
}
